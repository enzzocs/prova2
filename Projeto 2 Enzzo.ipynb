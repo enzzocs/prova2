{
 "cells": [
  {
   "cell_type": "code",
   "execution_count": 29,
   "metadata": {},
   "outputs": [],
   "source": [
    "import cmath\n",
    "import control\n",
    "from control.matlab import step\n",
    "import math\n",
    "import matplotlib.pyplot as plt\n",
    "import numpy as np\n",
    "from scipy import linalg"
   ]
  },
  {
   "cell_type": "markdown",
   "metadata": {},
   "source": [
    "### Projeto 2 de Controle\n",
    "#### Aluno: Enzzo Comassetto dos Santos\n"
   ]
  },
  {
   "cell_type": "code",
   "execution_count": 30,
   "metadata": {},
   "outputs": [],
   "source": [
    "NT = len('EnzzoComassettodosSantos')\n",
    "R1 = 2000*NT\n",
    "R2 = 18000\n",
    "C1 = 100e-9 \n",
    "C2 = 680e-9"
   ]
  },
  {
   "cell_type": "code",
   "execution_count": 31,
   "metadata": {},
   "outputs": [
    {
     "name": "stdout",
     "output_type": "stream",
     "text": [
      "[[   0.          555.55555556]\n",
      " [ -30.6372549  -112.33660131]]\n",
      "[[ 0.       ]\n",
      " [30.6372549]]\n",
      "[[1 0]]\n"
     ]
    }
   ],
   "source": [
    "A = np.array([[0, 1/(R2*C1)], [-1/(R1*C2), (-R1-R2)/(R1*R2*C2)]])\n",
    "B = np.array([[0], [1/(R1*C2)]])\n",
    "C = np.array([[1, 0]])\n",
    "D = np.array([[0]])\n",
    "print(A)\n",
    "print(B)\n",
    "print(C)"
   ]
  },
  {
   "cell_type": "code",
   "execution_count": 32,
   "metadata": {},
   "outputs": [
    {
     "data": {
      "text/latex": [
       "\\[\n",
       "\\left(\n",
       "\\begin{array}{rllrll|rll}\n",
       "0\\phantom{.}&\\hspace{-1em}&\\hspace{-1em}\\phantom{\\cdot}&556\\phantom{.}&\\hspace{-1em}&\\hspace{-1em}\\phantom{\\cdot}&0\\phantom{.}&\\hspace{-1em}&\\hspace{-1em}\\phantom{\\cdot}\\\\\n",
       "-30.&\\hspace{-1em}6&\\hspace{-1em}\\phantom{\\cdot}&-112\\phantom{.}&\\hspace{-1em}&\\hspace{-1em}\\phantom{\\cdot}&30.&\\hspace{-1em}6&\\hspace{-1em}\\phantom{\\cdot}\\\\\n",
       "\\hline\n",
       "1\\phantom{.}&\\hspace{-1em}&\\hspace{-1em}\\phantom{\\cdot}&0\\phantom{.}&\\hspace{-1em}&\\hspace{-1em}\\phantom{\\cdot}&0\\phantom{.}&\\hspace{-1em}&\\hspace{-1em}\\phantom{\\cdot}\\\\\n",
       "\\end{array}\\right)\n",
       "\\]"
      ],
      "text/plain": [
       "StateSpace(array([[   0.        ,  555.55555556],\n",
       "       [ -30.6372549 , -112.33660131]]), array([[ 0.       ],\n",
       "       [30.6372549]]), array([[1., 0.]]), array([[0.]]))"
      ]
     },
     "execution_count": 32,
     "metadata": {},
     "output_type": "execute_result"
    }
   ],
   "source": [
    "G = control.ss(A,B,C,D)\n",
    "G"
   ]
  },
  {
   "cell_type": "code",
   "execution_count": 33,
   "metadata": {},
   "outputs": [
    {
     "data": {
      "text/latex": [
       "$$\\frac{2.842 \\times 10^{-14} s + 1.702 \\times 10^{4}}{s^2 + 112.3 s + 1.702 \\times 10^{4}}$$"
      ],
      "text/plain": [
       "TransferFunction(array([2.84217094e-14, 1.70206972e+04]), array([1.00000000e+00, 1.12336601e+02, 1.70206972e+04]))"
      ]
     },
     "execution_count": 33,
     "metadata": {},
     "output_type": "execute_result"
    }
   ],
   "source": [
    "system = control.ss2tf(G)\n",
    "system"
   ]
  },
  {
   "cell_type": "code",
   "execution_count": 34,
   "metadata": {},
   "outputs": [
    {
     "data": {
      "image/png": "[encoded data removed]",
      "text/plain": [
       "<Figure size 432x288 with 1 Axes>"
      ]
     },
     "metadata": {
      "needs_background": "light"
     },
     "output_type": "display_data"
    }
   ],
   "source": [
    "x, y = control.step_response(system)\n",
    "x2, y2 = control.step_response(G)\n",
    "plt.figure()\n",
    "plt.plot(x, y, label='Sistema')\n",
    "plt.plot(x2, y2, ls= '--', label='Sistema de estados')\n",
    "plt.title(\"Resposta ao degrau unitário\")\n",
    "plt.xlabel(\"t\")\n",
    "plt.ylabel(\"y(t)\")\n",
    "plt.legend()\n",
    "plt.grid(True)\n",
    "plt.show()"
   ]
  },
  {
   "cell_type": "code",
   "execution_count": 35,
   "metadata": {},
   "outputs": [
    {
     "name": "stdout",
     "output_type": "stream",
     "text": [
      "[-56.16830065+117.75321299j -56.16830065-117.75321299j]\n"
     ]
    }
   ],
   "source": [
    "# Verificando polos da planta\n",
    "eigenvalues, eigenvectors = linalg.eig(A);\n",
    "poles = eigenvalues\n",
    "print(poles)"
   ]
  },
  {
   "cell_type": "code",
   "execution_count": 36,
   "metadata": {},
   "outputs": [
    {
     "name": "stdout",
     "output_type": "stream",
     "text": [
      "zeta: 0.7093860405586769\n",
      "wd: 149.0345406127992\n",
      "wn: 211.45045352438495\n",
      "Ts: 0.0024000000000000002\n",
      "Mp (%): 10.0\n",
      "Fs: 416.66666666666663\n",
      "\n",
      "Polos:\n",
      "s1 = (-149.99999999999997+149.0345406127992j)\n",
      "s2 = (-149.99999999999997-149.0345406127992j)\n",
      "s3 = -2114.5045352438497\n"
     ]
    }
   ],
   "source": [
    "Ts5 = NT *1e-3\n",
    "Mp = len('Enzzo')*2/100\n",
    "\n",
    "# Adotando 10 vezes como escolha, temos Ts = Ts5/10 = 19ms/10 = 1.9ms\n",
    "Ts = Ts5/10\n",
    "Fs = 1/Ts\n",
    "\n",
    "zeta = 1.2 * math.sqrt(math.log(Mp)**2/(math.log(Mp)**2 + math.pi**2))\n",
    "wn = 1.2*3/(zeta*(Ts5))\n",
    "wd = wn*math.sqrt(1-(zeta**2))\n",
    "ws = 2*math.pi/Ts\n",
    "\n",
    "ws_wd_relation = ws/wd\n",
    "\n",
    "# Polos dominantes desejados\n",
    "\n",
    "s1 = -zeta*wn + 1j*wd\n",
    "s2 = -zeta*wn - 1j*wd\n",
    "s3 = -10*abs(s1);\n",
    "\n",
    "print(f'zeta: {zeta}')\n",
    "print(f'wd: {wd}')\n",
    "print(f'wn: {wn}')\n",
    "print(f'Ts: {Ts}')\n",
    "print(f'Mp (%): {Mp*100}')\n",
    "print(f'Fs: {Fs}')\n",
    "print(f'\\nPolos:\\ns1 = {s1}\\ns2 = {s2}\\ns3 = {s3}')"
   ]
  },
  {
   "cell_type": "code",
   "execution_count": 37,
   "metadata": {},
   "outputs": [
    {
     "name": "stdout",
     "output_type": "stream",
     "text": [
      "O sistema é controlável\n"
     ]
    }
   ],
   "source": [
    "# Não é possível realizarmos uma ação de controle em sistemas não lineares, por isso essa verificação\n",
    "\n",
    "# Matriz de Controlabilidade\n",
    "Mc = control.ctrb(A,B)\n",
    "Mc\n",
    "\n",
    "# Teste de Controlabilidade\n",
    "rank_Mc = np.linalg.matrix_rank(Mc, 1e-12) \n",
    "\n",
    "if len(Mc) == rank_Mc:          \n",
    "    print(\"O sistema é controlável\")"
   ]
  },
  {
   "cell_type": "code",
   "execution_count": 38,
   "metadata": {},
   "outputs": [],
   "source": [
    "# Equação característica desejada\n",
    "eq_des = np.poly([s1, s2, s3]);\n",
    "eq_des\n",
    "\n",
    "# Matrizes Expandidas\n",
    "A_controle = np.block([[A, np.zeros([2,1])],[-C, 0]]);\n",
    "B_controle = np.block([[B],[0]]);\n",
    "\n",
    "# Matriz de ganhos do controlador K_chapeu = [k1 k2 -ki]\n",
    "K_controle = control.acker(A_controle,B_controle,[s1, s2, s3])\n",
    "K_controle\n",
    "\n",
    "#Utilizando a formula do slide para termos o sistema expandido\n",
    "K = np.block([K_controle[0,0], K_controle[0,1] ])\n",
    "Ki = -K_controle[0,2]\n",
    "AA = np.block([[A-B*K, B*Ki],[-C,0]])\n",
    "BB = np.block([[0],[0],[1]])\n",
    "CC = np.block([1, 0, 0])\n",
    "DD = 0;\n",
    "\n",
    "controlled_sys = control.ss(AA,BB,CC,DD);"
   ]
  },
  {
   "cell_type": "code",
   "execution_count": 39,
   "metadata": {},
   "outputs": [
    {
     "name": "stdout",
     "output_type": "stream",
     "text": [
      "[38.8962891  75.14276136]\n"
     ]
    }
   ],
   "source": [
    "print(K)"
   ]
  },
  {
   "cell_type": "code",
   "execution_count": 40,
   "metadata": {},
   "outputs": [
    {
     "data": {
      "image/png": "[encoded data removed]",
      "text/plain": [
       "<Figure size 288x288 with 1 Axes>"
      ]
     },
     "metadata": {
      "needs_background": "light"
     },
     "output_type": "display_data"
    }
   ],
   "source": [
    "# resposta para entrada ao degrau do sistema controlado\n",
    "tfinal = 0.05 \n",
    "Y_ctrld, t_y_ctrld = control.matlab.step(controlled_sys,tfinal);\n",
    "\n",
    "fig, ax1 = plt.subplots(1, 1)\n",
    "fig.set_size_inches(4,4)\n",
    "\n",
    "ax1.plot(t_y_ctrld,Y_ctrld,'*')\n",
    "ax1.set_title(\"Resposta do sistema controlado ao degrau unitário\")\n",
    "ax1.set_xlabel(\"t\")\n",
    "ax1.set_ylabel(\"y(t)\")\n",
    "ax1.legend(['y'],loc=\"lower right\")\n",
    "ax1.grid(True,'both')\n"
   ]
  },
  {
   "cell_type": "code",
   "execution_count": 41,
   "metadata": {},
   "outputs": [
    {
     "name": "stdout",
     "output_type": "stream",
     "text": [
      "Mp = 4.294892046323269%\n",
      "\n",
      "Ts5% = 14.360313315926891ms\n"
     ]
    }
   ],
   "source": [
    "# Sobressinal percentual\n",
    "Mp = (max(Y_ctrld)-Y_ctrld[-1])/(Y_ctrld[-1]-Y_ctrld[0]);\n",
    "print(f'Mp = {Mp*100}%')\n",
    "\n",
    "# Tempo de acomodação para 5%\n",
    "\n",
    "j = len(t_y_ctrld)-1;\n",
    "delta = 0;\n",
    "while (delta < tfinal):\n",
    "    delta = abs((Y_ctrld[j]-Y_ctrld[-1])/Y_ctrld[-1]);\n",
    "    ts = t_y_ctrld[j];\n",
    "    j = j-1;\n",
    "   \n",
    "print(f'\\nTs5% = {ts*1000}ms')"
   ]
  },
  {
   "cell_type": "code",
   "execution_count": 42,
   "metadata": {},
   "outputs": [],
   "source": [
    "#eq. recursivas\n",
    "\n",
    "#t = t_y_ctrld\n",
    "\n",
    "\n",
    "Fs = Fs*10\n",
    "Ts = 1/Fs\n",
    "tfinal = 0.05;\n",
    "\n",
    "Kmax = int((tfinal/Ts)+1);\n",
    "\n",
    "t =np.linspace(0, tfinal, Kmax);\n",
    "r = np.ones(len(t));\n",
    "r[0] = 0;\n",
    "\n",
    "# declaração dos vetores\n",
    "x1 = np.zeros(len(t));\n",
    "x2 = np.zeros(len(t));\n",
    "csi = np.zeros(len(t));\n",
    "\n",
    "u = np.zeros(len(t));\n",
    "\n",
    "x1_ponto = np.zeros(len(t));\n",
    "x2_ponto = np.zeros(len(t));\n",
    "csi_ponto = np.zeros(len(t));\n",
    "y = np.zeros(len(t));\n",
    "\n",
    "y[0] = C[0,0]*x1[0]+C[0,1]*x2[0]+D*u[0];  #  para k = 0\n",
    "\n",
    "for j in range(0,len(t)):\n",
    "    # Equações dos integradores\n",
    "    x1[j] = Ts*x1_ponto[j-1] + x1[j-1];\n",
    "    x2[j] = Ts*x2_ponto[j-1] + x2[j-1];    \n",
    "    csi[j] = Ts*csi_ponto[j-1] + csi[j-1];\n",
    "\n",
    "    # Equação da lei de controle\n",
    "    u[j] = -(K[0]*x1[j] + K[1]*x2[j]) + Ki*csi[j];\n",
    "\n",
    "    # Equação diferencial de estados:  Xponto=A*X+B*U\n",
    "    x1_ponto[j] = A[0,0]*x1[j] + A[0,1]*x2[j] + B[0]*u[j];  \n",
    "    x2_ponto[j] = A[1,0]*x1[j] + A[1,1]*x2[j] + B[1]*u[j]; \n",
    "\n",
    "    # Equação de Saída: Y=C*X+D*U\n",
    "    y[j] = C[0,0]*x1[j]# + C[1]*x2[j]# + D*u[j];\n",
    "\n",
    "    # Equação de erro\n",
    "    csi_ponto[j] = r[j] - y[j];"
   ]
  },
  {
   "cell_type": "code",
   "execution_count": 43,
   "metadata": {},
   "outputs": [
    {
     "data": {
      "image/png": "[encoded data removed]",
      "text/plain": [
       "<Figure size 432x432 with 1 Axes>"
      ]
     },
     "metadata": {
      "needs_background": "light"
     },
     "output_type": "display_data"
    }
   ],
   "source": [
    "# comportamento da saída y                      \n",
    "fig = plt.figure()\n",
    "fig.set_size_inches(6,6)\n",
    "plt.plot( t, y,'*')#t_y_ctrld, Y_ctrld,'-')#\n",
    "plt.xlabel(\"t\")\n",
    "plt.ylabel(\"y(t)\")\n",
    "plt.legend(['equação recursiva'],loc=\"upper right\")\n",
    "plt.grid(True)\n",
    "plt.show()"
   ]
  },
  {
   "cell_type": "code",
   "execution_count": 44,
   "metadata": {},
   "outputs": [
    {
     "data": {
      "image/png": "[encoded data removed]",
      "text/plain": [
       "<Figure size 720x1080 with 3 Axes>"
      ]
     },
     "metadata": {
      "needs_background": "light"
     },
     "output_type": "display_data"
    }
   ],
   "source": [
    "fig, ((ax1, ax2, ax3) ) = plt.subplots(3, 1)\n",
    "fig.set_size_inches(10,15)\n",
    "\n",
    "ax1.plot(t, x1,'*')\n",
    "ax1.set_title(\"Comportamento do estado x1 \")\n",
    "ax1.set_xlabel(\"t\")\n",
    "ax1.set_ylabel(\"x1(t)\")\n",
    "ax1.legend(['X1'],loc=\"lower right\")\n",
    "ax1.grid(True)\n",
    "\n",
    "ax2.plot(t, x2,'*')\n",
    "ax2.set_title(\"Comportamento do estado x2\")\n",
    "ax2.set_xlabel(\"t\")\n",
    "ax2.set_ylabel(\"x2(t)\")\n",
    "ax2.legend(['X2'],loc=\"lower right\")\n",
    "ax2.grid(True)\n",
    "\n",
    "ax3.plot(t, u,'*')\n",
    "ax3.set_title(\"Comportamento da ação de controle u(t)\")\n",
    "ax3.set_xlabel(\"t\")\n",
    "ax3.set_ylabel(\"u(t)\")\n",
    "ax3.legend(['U(t)'],loc=\"lower right\")\n",
    "ax3.grid(True)"
   ]
  },
  {
   "cell_type": "markdown",
   "metadata": {},
   "source": [
    "#### Observador de ordem minima\n"
   ]
  },
  {
   "cell_type": "code",
   "execution_count": 45,
   "metadata": {},
   "outputs": [
    {
     "name": "stdout",
     "output_type": "stream",
     "text": [
      "O sistema é observável!\n"
     ]
    }
   ],
   "source": [
    "# Matriz de observabilidade\n",
    "\n",
    "N = control.obsv(A, C).T\n",
    "\n",
    "# teste de observabilidade\n",
    "rank_Mo = np.linalg.matrix_rank(N, 1e-12)   \n",
    "\n",
    "if len(N) == rank_Mo:          \n",
    "    print(\"O sistema é observável!\")"
   ]
  },
  {
   "cell_type": "code",
   "execution_count": 46,
   "metadata": {},
   "outputs": [
    {
     "name": "stdout",
     "output_type": "stream",
     "text": [
      "Polos do observador: \n",
      "\n",
      "s1: -1057.2522676219248\n",
      "s2:-1057.2522676219248\n"
     ]
    }
   ],
   "source": [
    "# Verificando polos da planta\n",
    "eigenvalues, eigenvectors = linalg.eig(A);\n",
    "\n",
    "# Polos escolhidos de forma que o observador tenha o dobro da velocidade do controlador\n",
    "s1_obs = -5*abs(s1)\n",
    "s2_obs = -5*abs(s2)\n",
    "\n",
    "print(f'Polos do observador: \\n\\ns1: {s1_obs}\\ns2:{s2_obs}')\n"
   ]
  },
  {
   "cell_type": "code",
   "execution_count": 47,
   "metadata": {},
   "outputs": [
    {
     "name": "stdout",
     "output_type": "stream",
     "text": [
      "L: -1057.2522676219248\n",
      "\n",
      "Ke: 1.7008481993665236\n",
      "\n",
      "Achapeu: -1057.2522676219248\n",
      "\n",
      "Bchapeu: -1828.8628705628857\n",
      "\n",
      "Fchapeu: 30.637254901960787\n",
      "\n",
      "Cchapeu: [[0]\n",
      " [1]]\n",
      "\n",
      "Dchapeu: [[1.       ]\n",
      " [1.7008482]]\n",
      "\n",
      "1\n",
      "A matriz é observável\n"
     ]
    }
   ],
   "source": [
    "Abb = A[1,1]\n",
    "Aab = A[0,1]\n",
    "L = (s1_obs);\n",
    "# Ganho \n",
    "Ke = control.acker(Abb,Aab,[L])\n",
    "Ke = Ke[0,0]      # Transformando em escalar\n",
    "\n",
    "Aaa = A[0,0];\n",
    "Aba = A[1,0];\n",
    "Ba = B[0,0];\n",
    "Bb = B[1,0];\n",
    "\n",
    "Achapeu = Abb-Ke*Aab;\n",
    "Bchapeu = Achapeu*Ke+Aba-Ke*Aaa;\n",
    "Fchapeu = Bb-Ke*Ba;\n",
    "\n",
    "Cchapeu = np.matrix('0 ; 1');\n",
    "Dchapeu = np.block([[1], [Ke]]);\n",
    "\n",
    "print(\"L: \" + str(L) + \"\\n\")\n",
    "print(\"Ke: \" + str(Ke) + \"\\n\")\n",
    "print(\"Achapeu: \" + str(Achapeu) + \"\\n\")\n",
    "print(\"Bchapeu: \" + str(Bchapeu) + \"\\n\")\n",
    "print(\"Fchapeu: \" + str(Fchapeu) + \"\\n\")\n",
    "print(\"Cchapeu: \" + str(Cchapeu) + \"\\n\")\n",
    "print(\"Dchapeu: \" + str(Dchapeu) + \"\\n\")\n",
    "\n",
    "# Matriz de Controlabilidade do sistema dual para ordem mínima\n",
    "Mc = control.ctrb(Aab,Abb)\n",
    "\n",
    "# Teste de Controlabilidade\n",
    "rank_Mc = np.linalg.matrix_rank(Mc) # número de postos do sistema\n",
    "print(rank_Mc)\n",
    "print('A matriz é observável')\n"
   ]
  },
  {
   "cell_type": "code",
   "execution_count": 48,
   "metadata": {},
   "outputs": [],
   "source": [
    "# simulação com equações recursivas\n",
    "# definindo o intervalo de simulação e o vetor de entrada\n",
    "T = 1/Fs;\n",
    "tfinal = 0.2;\n",
    "Kmax = int(tfinal/T+1);\n",
    "k = np.linspace(0, Kmax, int(Fs*tfinal))\n",
    "u = np.ones(len(k));\n",
    "\n",
    "# definindo os vetores\n",
    "x1 = np.zeros(len(k));\n",
    "x2 = np.zeros(len(k));\n",
    "x1_ponto = np.zeros(len(k));\n",
    "x2_ponto = np.zeros(len(k));\n",
    "y = np.zeros(len(k));\n",
    "eta1 = np.zeros(len(k));\n",
    "eta1_ponto = np.zeros(len(k));\n",
    "xtil1 = np.zeros(len(k));\n",
    "xtil2 = np.zeros(len(k));\n",
    "\n",
    "# condições iniciais (podem ser diferentes de zero)\n",
    "x1[0] = 0;  #  para k = 0\n",
    "x2[0] = 0;  #  para k = 0\n",
    "x1_ponto[0] = 0;  #  para k = 0\n",
    "x2_ponto[0] = 0;  #  para k = 0\n",
    "y[0] = C[0,0]*x1[0]+C[0,1]*x2[0]+D*u[0];  #  para k = 0\n",
    "eta1[0] = 0;  #  para k = 0\n",
    "eta1_ponto[0] = Fchapeu*u[0];  #  para k = 0\n",
    "\n",
    "\n",
    "\n",
    "for j in range(1,Kmax-1):\n",
    "    # sistema original\n",
    "        # Equações dos integradores\n",
    "        x1[j]=T*x1_ponto[j-1]+x1[j-1];\n",
    "        x2[j]=T*x2_ponto[j-1]+x2[j-1];    \n",
    "        \n",
    "        # Equação diferencial de estados:  Xponto=A*X+B*U\n",
    "        x1_ponto[j]=A[0,0]*x1[j]+A[0,1]*x2[j]+B[0]*u[j];  \n",
    "        x2_ponto[j]=A[1,0]*x1[j]+A[1,1]*x2[j]+B[1]*u[j]; \n",
    "\n",
    "        # Equação de Saída: Y=C*X+D*U\n",
    "        y[j] = C[0,0]*x1[j]+C[0,1]*x2[j]+D*u[j];\n",
    "\n",
    "    # observador de ordem mínima\n",
    "        # Equações dos integradores do observador\n",
    "        eta1[j]=T*eta1_ponto[j-1]+eta1[j-1];\n",
    "    \n",
    "        # Equação diferencial de estados do observador\n",
    "        eta1_ponto[j]=Achapeu*eta1[j]+Bchapeu*y[j]+Fchapeu*u[j];\n",
    "    \n",
    "    # Transformação\n",
    "        # equação de saída do observador de ordem mínima\n",
    "        xtil1[j]=Cchapeu[0,0]*eta1[j]+Dchapeu[0]*y[j];\n",
    "        xtil2[j]=Cchapeu[1,0]*eta1[j]+Dchapeu[1]*y[j];"
   ]
  },
  {
   "cell_type": "code",
   "execution_count": 49,
   "metadata": {},
   "outputs": [
    {
     "data": {
      "image/png": "[encoded data removed]",
      "text/plain": [
       "<Figure size 432x432 with 1 Axes>"
      ]
     },
     "metadata": {
      "needs_background": "light"
     },
     "output_type": "display_data"
    }
   ],
   "source": [
    "# resposta para entrada ao degrau\n",
    "fig, ((ax1) ) = plt.subplots(1, 1)\n",
    "fig.set_size_inches(6,6)\n",
    "\n",
    "ax1.plot(k*T, xtil1, 'r*', k*T, x1)\n",
    "ax1.set_title(\"x~ da Planta ao Degrau Unitário\")\n",
    "ax1.set_xlabel(\"t\")\n",
    "ax1.set_ylabel(\"y(t)\")\n",
    "\n",
    "ax1.grid(True,'both')"
   ]
  },
  {
   "cell_type": "code",
   "execution_count": 50,
   "metadata": {},
   "outputs": [
    {
     "data": {
      "image/png": "[encoded data removed]",
      "text/plain": [
       "<Figure size 432x288 with 1 Axes>"
      ]
     },
     "metadata": {
      "needs_background": "light"
     },
     "output_type": "display_data"
    }
   ],
   "source": [
    "plt.figure()\n",
    "plt.plot(k*T,xtil2, '*', k*T,x2)\n",
    "plt.xlabel(\"t\")\n",
    "plt.ylabel(\"x2(t)\")\n",
    "plt.grid(True)\n",
    "plt.show()"
   ]
  },
  {
   "cell_type": "code",
   "execution_count": 51,
   "metadata": {},
   "outputs": [],
   "source": [
    "T = 1/Fs;\n",
    "tfinal = 0.05;\n",
    "Kmax = int(tfinal/T+1);\n",
    "k = np.linspace(0, Kmax, int(Fs*tfinal))\n",
    "\n",
    "\n",
    "# definindo os vetores\n",
    "r = np.ones(len(k));\n",
    "u = np.zeros(len(k));\n",
    "x1 = np.zeros(len(k));\n",
    "x2 = np.zeros(len(k));\n",
    "csi = np.zeros(len(k));\n",
    "x1_ponto = np.zeros(len(k));\n",
    "x2_ponto = np.zeros(len(k));\n",
    "csi_ponto = np.zeros(len(k));\n",
    "y = np.zeros(len(k));\n",
    "eta1 = np.zeros(len(k));\n",
    "eta1_ponto = np.zeros(len(k));\n",
    "xtil1 = np.zeros(len(k));\n",
    "xtil2 = np.zeros(len(k));\n",
    "\n",
    "# condições iniciais (podem ser diferentes de zero)\n",
    "x1[0] = 0;  #  para k = 0\n",
    "x2[0] = 0;  #  para k = 0\n",
    "x1_ponto[0] = 0;  #  para k = 0\n",
    "x2_ponto[0] = 0;  #  para k = 0\n",
    "y[0] = C[0,0]*x1[0]+C[0,1]*x2[0]+D*u[0];  #  para k = 0\n",
    "eta1[0] = 0;  #  para k = 0\n",
    "eta1_ponto[0] = Fchapeu*u[0];  #  para k = 0\n",
    "xtil1[1]=Cchapeu[0,0]*eta1[0]+Dchapeu[0]*y[0];\n",
    "xtil2[1]=Cchapeu[1,0]*eta1[0]+Dchapeu[1]*y[0];\n",
    "csi_ponto[0] = r[0] - y[0];\n",
    "\n",
    "\n",
    "\n",
    "for j in range(1,Kmax-1):\n",
    "    # sistema original\n",
    "        # Equações dos integradores\n",
    "        x1[j]=T*x1_ponto[j-1]+x1[j-1];\n",
    "        x2[j]=T*x2_ponto[j-1]+x2[j-1];\n",
    "        csi[j] = Ts*csi_ponto[j-1] + csi[j-1];\n",
    "    \n",
    "        # Equação da lei de controle + observador\n",
    "        u[j] = -(K[0]*xtil1[j] + K[1]*xtil2[j]) + Ki*csi[j];\n",
    "        \n",
    "        # Equação diferencial de estados:  Xponto=A*X+B*U\n",
    "        x1_ponto[j]=A[0,0]*x1[j]+A[0,1]*x2[j]+B[0]*u[j];  \n",
    "        x2_ponto[j]=A[1,0]*x1[j]+A[1,1]*x2[j]+B[1]*u[j]; \n",
    "        \n",
    "    # observador de ordem mínima\n",
    "        # Equações dos integradores do observador\n",
    "        eta1[j]=T*eta1_ponto[j-1]+eta1[j-1];\n",
    "    \n",
    "        \n",
    "        # Equação de Saída: Y=C*X+D*U\n",
    "        y[j] = C[0,0]*x1[j]+C[0,1]*x2[j]+D*u[j];\n",
    "        \n",
    "        # Equação diferencial de estados do observador\n",
    "        eta1_ponto[j]=Achapeu*eta1[j]+Bchapeu*y[j]+Fchapeu*u[j];\n",
    "        \n",
    "\n",
    "        \n",
    "        if j != (Kmax -2):\n",
    "     # Transformação\n",
    "        # equação de saída do observador de ordem mínima\n",
    "            xtil1[j+1]=Cchapeu[0,0]*eta1[j]+Dchapeu[0]*y[j];\n",
    "            xtil2[j+1]=Cchapeu[1,0]*eta1[j]+Dchapeu[1]*y[j];\n",
    "        \n",
    "        # Equação de erro\n",
    "        csi_ponto[j] = r[j] - y[j];"
   ]
  },
  {
   "cell_type": "code",
   "execution_count": 52,
   "metadata": {},
   "outputs": [
    {
     "data": {
      "image/png": "[encoded data removed]",
      "text/plain": [
       "<Figure size 432x432 with 1 Axes>"
      ]
     },
     "metadata": {
      "needs_background": "light"
     },
     "output_type": "display_data"
    }
   ],
   "source": [
    "# resposta para entrada ao degrau\n",
    "fig, ((ax1) ) = plt.subplots(1, 1)\n",
    "fig.set_size_inches(6,6)\n",
    "\n",
    "ax1.plot(k*T, y)\n",
    "ax1.set_title(\"Saida\")\n",
    "ax1.set_xlabel(\"t\")\n",
    "ax1.set_ylabel(\"y(t)\")\n",
    "\n",
    "ax1.grid(True,'both')"
   ]
  },
  {
   "cell_type": "code",
   "execution_count": 53,
   "metadata": {},
   "outputs": [],
   "source": [
    "def relative_error(reference, value): \n",
    "    return abs((value-reference)/reference)*100;\n",
    "    \n",
    "def overshoot(signal):\n",
    "    return relative_error(signal[-1], max(signal));\n",
    "\n",
    "def settling_time(signal, t, percentage):\n",
    "    delta = lambda x: abs((x[-1]-x)/x[-1]);\n",
    "    absolute_difference = lambda x, idx, percentage: abs(x[idx]-x[-1]-percentage*x[-1]);\n",
    "    \n",
    "    idx = np.argwhere(delta(signal) > percentage)[-1][0];\n",
    "    if absolute_difference(signal,idx,percentage) < absolute_difference(signal,idx+1,percentage):\n",
    "        st = t[idx];\n",
    "    else:\n",
    "        st = t[idx+1];\n",
    "    \n",
    "    return st;"
   ]
  },
  {
   "cell_type": "code",
   "execution_count": 54,
   "metadata": {},
   "outputs": [
    {
     "name": "stdout",
     "output_type": "stream",
     "text": [
      "3.714933892672377\n"
     ]
    }
   ],
   "source": [
    "print(overshoot(y))"
   ]
  },
  {
   "cell_type": "code",
   "execution_count": 55,
   "metadata": {},
   "outputs": [
    {
     "name": "stdout",
     "output_type": "stream",
     "text": [
      "0.014539130434782612\n"
     ]
    }
   ],
   "source": [
    "print(settling_time(y, k*T, 0.05))"
   ]
  }
 ],
 "metadata": {
  "kernelspec": {
   "display_name": "Python 3",
   "language": "python",
   "name": "python3"
  },
  "language_info": {
   "codemirror_mode": {
    "name": "ipython",
    "version": 3
   },
   "file_extension": ".py",
   "mimetype": "text/x-python",
   "name": "python",
   "nbconvert_exporter": "python",
   "pygments_lexer": "ipython3",
   "version": "3.7.4"
  }
 },
 "nbformat": 4,
 "nbformat_minor": 2
}
