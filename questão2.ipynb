{
 "cells": [
  {
   "cell_type": "code",
   "execution_count": 141,
   "id": "333b41cf",
   "metadata": {},
   "outputs": [],
   "source": [
    "import numpy as np\n",
    "import sympy as sp\n",
    "import control  \n",
    "import control.matlab\n",
    "import math\n",
    "import cmath\n",
    "import matplotlib.pyplot as plt\n",
    "from scipy import linalg"
   ]
  },
  {
   "cell_type": "code",
   "execution_count": 142,
   "id": "d6c5ad63",
   "metadata": {},
   "outputs": [],
   "source": [
    "# A)\n",
    "#  Matrizes do Sistema\n",
    "#  A partir do slide 9 da apresentação EE02\n",
    "A = np.matrix('0 1;-3 -2');\n",
    "B = np.matrix('0 ; 1');\n",
    "C = np.matrix('1 0');\n",
    "D = np.matrix('0');"
   ]
  },
  {
   "cell_type": "code",
   "execution_count": 143,
   "id": "7d6bb630",
   "metadata": {},
   "outputs": [],
   "source": [
    "s1 = -2\n",
    "s2 = -3\n",
    "s3 = -15"
   ]
  },
  {
   "cell_type": "code",
   "execution_count": 144,
   "id": "9a332847",
   "metadata": {},
   "outputs": [],
   "source": [
    "# Matrizes Expandidas\n",
    "A_chapeu = np.block([[A, np.zeros([2,1])],[-C, 0]]);\n",
    "B_chapeu = np.block([[B],[0]]);"
   ]
  },
  {
   "cell_type": "code",
   "execution_count": 145,
   "id": "c4459c24",
   "metadata": {},
   "outputs": [
    {
     "data": {
      "text/plain": [
       "3"
      ]
     },
     "execution_count": 145,
     "metadata": {},
     "output_type": "execute_result"
    }
   ],
   "source": [
    "# Matriz de Controlabilidade\n",
    "Mc = np.block([[A, B],[-C, 0]]);\n",
    "\n",
    "# teste de controlabilidade    = n+1?\n",
    "np.linalg.matrix_rank(Mc)"
   ]
  },
  {
   "cell_type": "code",
   "execution_count": 146,
   "id": "afc04b23",
   "metadata": {},
   "outputs": [
    {
     "data": {
      "text/plain": [
       "matrix([[ 78.,  18., -90.]])"
      ]
     },
     "execution_count": 146,
     "metadata": {},
     "output_type": "execute_result"
    }
   ],
   "source": [
    "# Matriz de ganhos do controlador K_chapeu = [k1 k2 -ki]\n",
    "K_chapeu = control.acker(A_chapeu,B_chapeu,[s1, s2, s3])\n",
    "K_chapeu"
   ]
  },
  {
   "cell_type": "code",
   "execution_count": 147,
   "id": "461bc674",
   "metadata": {},
   "outputs": [
    {
     "data": {
      "text/plain": [
       "array([-15.+0.j,  -3.+0.j,  -2.+0.j])"
      ]
     },
     "execution_count": 147,
     "metadata": {},
     "output_type": "execute_result"
    }
   ],
   "source": [
    " # Verificando\n",
    "autovalores, autovetores = linalg.eig(A_chapeu-B_chapeu*K_chapeu);\n",
    "autovalores"
   ]
  },
  {
   "cell_type": "code",
   "execution_count": 148,
   "id": "5675f66a",
   "metadata": {},
   "outputs": [
    {
     "name": "stdout",
     "output_type": "stream",
     "text": [
      "[[78. 18.]]\n",
      "90.0\n"
     ]
    }
   ],
   "source": [
    "K = K_chapeu[[0,0],[0,1]]\n",
    "print(K)\n",
    "k_i = -K_chapeu[0,2]\n",
    "print(k_i)"
   ]
  },
  {
   "cell_type": "code",
   "execution_count": 149,
   "id": "a3d0105b",
   "metadata": {
    "scrolled": false
   },
   "outputs": [
    {
     "data": {
      "text/plain": [
       "[<matplotlib.lines.Line2D at 0x25a6b2657f0>]"
      ]
     },
     "execution_count": 149,
     "metadata": {},
     "output_type": "execute_result"
    },
    {
     "data": {
      "image/png": "[encoded data removed]",
      "text/plain": [
       "<Figure size 640x480 with 1 Axes>"
      ]
     },
     "metadata": {},
     "output_type": "display_data"
    }
   ],
   "source": [
    "AA = np.block([[A-B*K, B*k_i],[-C, 0]]) \n",
    "BB = np.matrix([[0],[0],[1]])\n",
    "CC = np.matrix([[1,0,0]])\n",
    "DD = np.matrix([0])\n",
    "planta_controlada = control.ss(AA, BB, CC, DD)\n",
    "xf,yf = control.step_response(planta_controlada,10)\n",
    "plt.xlabel(\"t\")\n",
    "plt.ylabel(\"y(t)\")\n",
    "plt.grid(True)\n",
    "plt.plot(xf,yf)"
   ]
  },
  {
   "cell_type": "code",
   "execution_count": 150,
   "id": "54cf509c",
   "metadata": {},
   "outputs": [],
   "source": [
    "#B)\n",
    "\n",
    "X0 = [[0], [0], [0]];\n",
    "X0 = np.matrix(X0)"
   ]
  },
  {
   "cell_type": "code",
   "execution_count": 151,
   "id": "f8f53747",
   "metadata": {
    "scrolled": true
   },
   "outputs": [
    {
     "name": "stdout",
     "output_type": "stream",
     "text": [
      "Matrix([[0, 1.00000000000000, 0], [-81.0000000000000, -20.0000000000000, 90.0000000000000], [-1.00000000000000, 0, 0]])\n",
      "Matrix([[0], [0], [1]])\n",
      "Matrix([[1, 0, 0]])\n",
      "Matrix([[0]])\n"
     ]
    },
    {
     "data": {
      "text/latex": [
       "$\\displaystyle \\left[\\begin{matrix}- \\frac{1.73076923076923}{0.5 s + 1.0} + \\frac{0.833333333333333}{0.333333333333333 s + 1.0} - \\frac{0.00256410256410256}{0.0666666666666667 s + 1.0} + \\frac{1.0}{s}\\end{matrix}\\right]$"
      ],
      "text/plain": [
       "Matrix([[-1.73076923076923/(0.5*s + 1.0) + 0.833333333333333/(0.333333333333333*s + 1.0) - 0.00256410256410256/(0.0666666666666667*s + 1.0) + 1.0/s]])"
      ]
     },
     "execution_count": 151,
     "metadata": {},
     "output_type": "execute_result"
    }
   ],
   "source": [
    "# Solução com a transformada de laplace\n",
    "#s, t = sp.symbols('s t')\n",
    "s = sp.symbols('s')\n",
    "t = sp.symbols('t', positive=True)\n",
    "\n",
    "U = 1/(s);\n",
    "# Matrizes\n",
    "A = sp.Matrix(AA);\n",
    "print(A)\n",
    "B = sp.Matrix(BB);\n",
    "print(B)\n",
    "C = sp.Matrix(CC);\n",
    "print(C)\n",
    "D = sp.Matrix(DD);\n",
    "print(D)\n",
    "X0 = sp.Matrix(X0);\n",
    "\n",
    "I = np.eye(3);\n",
    "\n",
    "X = ((s*I-A)**-1)*X0+((s*I-A)**-1)*B*U;\n",
    "Y = C*X;\n",
    "Y = sp.expand(Y)\n",
    "Y = sp.simplify(Y)\n",
    "#Y = Y[0]\n",
    "Y = Y.apart(s)\n",
    "Y"
   ]
  },
  {
   "cell_type": "code",
   "execution_count": 152,
   "id": "5eea88c3",
   "metadata": {},
   "outputs": [
    {
     "data": {
      "text/latex": [
       "$\\displaystyle 1.0 - 0.0384615384615385 e^{- 15.0 t} + 2.5 e^{- 3.0 t} - 3.46153846153846 e^{- 2.0 t}$"
      ],
      "text/plain": [
       "1.0 - 0.0384615384615385*exp(-15.0*t) + 2.5*exp(-3.0*t) - 3.46153846153846*exp(-2.0*t)"
      ]
     },
     "execution_count": 152,
     "metadata": {},
     "output_type": "execute_result"
    }
   ],
   "source": [
    "F1 = -1.73076923076923/(0.5*s+1);\n",
    "F2 = 0.833333333333333/(0.333333333333333*s+1);\n",
    "F3 = -0.00256410256410256/(0.0666666666666667*s+1);\n",
    "F4 = 1/(s)\n",
    "y = sp.inverse_laplace_transform(F1+F3, s, t)+sp.inverse_laplace_transform(F2+F4, s, t)\n",
    "y"
   ]
  },
  {
   "cell_type": "code",
   "execution_count": 155,
   "id": "55c474bf",
   "metadata": {},
   "outputs": [
    {
     "data": {
      "image/png": "[encoded data removed]",
      "text/plain": [
       "<Figure size 640x480 with 1 Axes>"
      ]
     },
     "metadata": {},
     "output_type": "display_data"
    }
   ],
   "source": [
    "# comparando os resultados\n",
    "# resposta da sulução encontrada\n",
    "t = np.linspace(0, 10, 999);\n",
    "y = 1.0 - 0.0384615384615385*np.exp(-15*t)+2.5*np.exp(-3*t)-3.46153846153846*np.exp(-2*t)\n",
    "plt.figure()\n",
    "plt.plot(t, y)\n",
    "plt.xlabel(\"t\")\n",
    "plt.ylabel(\"y(t)\")\n",
    "plt.grid(True)\n",
    "plt.show()"
   ]
  },
  {
   "cell_type": "code",
   "execution_count": 159,
   "id": "56da5ffd",
   "metadata": {},
   "outputs": [
    {
     "data": {
      "image/png": "[encoded data removed]",
      "text/plain": [
       "<Figure size 640x480 with 1 Axes>"
      ]
     },
     "metadata": {},
     "output_type": "display_data"
    }
   ],
   "source": [
    "# resposta com o comando lsim\n",
    "u = np.ones(len(t));\n",
    "# sistema no espaço de estados\n",
    "X0 = [[0], [0], [0]];\n",
    "X0 = np.matrix(X0)\n",
    "#sistema = control.ss(A,B,C,D);\n",
    "y2, t, x = control.matlab.lsim(planta_controlada, u, t, X0);\n",
    "plt.figure()\n",
    "plt.plot(t, y2,t, y, 'r*')\n",
    "plt.xlabel(\"t\")\n",
    "plt.ylabel(\"y(t)\")\n",
    "plt.grid(True)\n",
    "plt.show()"
   ]
  }
 ],
 "metadata": {
  "kernelspec": {
   "display_name": "Python 3 (ipykernel)",
   "language": "python",
   "name": "python3"
  },
  "language_info": {
   "codemirror_mode": {
    "name": "ipython",
    "version": 3
   },
   "file_extension": ".py",
   "mimetype": "text/x-python",
   "name": "python",
   "nbconvert_exporter": "python",
   "pygments_lexer": "ipython3",
   "version": "3.9.13"
  }
 },
 "nbformat": 4,
 "nbformat_minor": 5
}
